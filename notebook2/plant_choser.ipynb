{
 "cells": [
  {
   "cell_type": "code",
   "execution_count": 1,
   "metadata": {
    "papermill": {
     "duration": 1.249177,
     "end_time": "2022-01-19T05:43:03.198482",
     "exception": false,
     "start_time": "2022-01-19T05:43:01.949305",
     "status": "completed"
    },
    "tags": []
   },
   "outputs": [],
   "source": [
    "from __future__ import print_function\n",
    "import pandas as pd\n",
    "import numpy as np\n",
    "import matplotlib.pyplot as plt\n",
    "import seaborn as sns\n",
    "from sklearn.metrics import classification_report\n",
    "from sklearn import metrics\n",
    "from sklearn import tree\n",
    "import warnings\n",
    "warnings.filterwarnings('ignore')"
   ]
  },
  {
   "cell_type": "code",
   "execution_count": 17,
   "metadata": {
    "papermill": {
     "duration": 0.064077,
     "end_time": "2022-01-19T05:43:03.296513",
     "exception": false,
     "start_time": "2022-01-19T05:43:03.232436",
     "status": "completed"
    },
    "tags": []
   },
   "outputs": [],
   "source": [
    "PATH = './crop_recommendation.csv'\n",
    "df = pd.read_csv(PATH)"
   ]
  },
  {
   "cell_type": "code",
   "execution_count": 18,
   "metadata": {
    "tags": []
   },
   "outputs": [
    {
     "data": {
      "text/plain": [
       "label\n",
       "sugarcane       295\n",
       "maize           293\n",
       "wheat           286\n",
       "rice            284\n",
       "jowar           283\n",
       "grapes          274\n",
       "cotton          271\n",
       "coconut         200\n",
       "orange          200\n",
       "apple           200\n",
       "muskmelon       200\n",
       "watermelon      200\n",
       "papaya          200\n",
       "mango           200\n",
       "kidneybeans     200\n",
       "pomegranate     200\n",
       "lentil          200\n",
       "blackgram       200\n",
       "mungbean        200\n",
       "mothbeans       200\n",
       "chickpea        200\n",
       "banana          200\n",
       "pigeonpeas      200\n",
       "groundnut       177\n",
       "tur             126\n",
       "ginger          125\n",
       "sapota          120\n",
       "fingermillet    101\n",
       "coffee          100\n",
       "jute            100\n",
       "urad             99\n",
       "moong            99\n",
       "turmeric         55\n",
       "soybean          45\n",
       "masoor           12\n",
       "Name: count, dtype: int64"
      ]
     },
     "execution_count": 18,
     "metadata": {},
     "output_type": "execute_result"
    }
   ],
   "source": [
    "df['label'].value_counts()"
   ]
  },
  {
   "cell_type": "code",
   "execution_count": 19,
   "metadata": {
    "papermill": {
     "duration": 0.050705,
     "end_time": "2022-01-19T05:43:03.981448",
     "exception": false,
     "start_time": "2022-01-19T05:43:03.930743",
     "status": "completed"
    },
    "tags": []
   },
   "outputs": [
    {
     "data": {
      "text/plain": [
       "35"
      ]
     },
     "execution_count": 19,
     "metadata": {},
     "output_type": "execute_result"
    }
   ],
   "source": [
    "len(df['label'].unique())"
   ]
  },
  {
   "cell_type": "code",
   "execution_count": 20,
   "metadata": {
    "papermill": {
     "duration": 0.049985,
     "end_time": "2022-01-19T05:43:04.717341",
     "exception": false,
     "start_time": "2022-01-19T05:43:04.667356",
     "status": "completed"
    },
    "tags": []
   },
   "outputs": [
    {
     "name": "stdout",
     "output_type": "stream",
     "text": [
      "Accuracy: 0.9929078014184397\n",
      "['jute']\n"
     ]
    }
   ],
   "source": [
    "features = df[['Nitrogen', 'Phosphorus','Potassium','temperature', 'humidity', 'ph', 'rainfall']]\n",
    "target = df['label']\n",
    "\n",
    "imputer = SimpleImputer(strategy='mean')\n",
    "imputed_features = imputer.fit_transform(features)\n",
    "\n",
    "Xtrain, Xtest, Ytrain, Ytest = train_test_split(imputed_features, target, test_size=0.2, random_state=2)\n",
    "\n",
    "RF = RandomForestClassifier(n_estimators=20, random_state=0)\n",
    "RF.fit(Xtrain, Ytrain)\n",
    "\n",
    "predicted_values = RF.predict(Xtest)\n",
    "accuracy = accuracy_score(Ytest, predicted_values)\n",
    "print(f\"Accuracy: {accuracy}\")\n",
    "\n",
    "prediction = RF.predict([[83, 45, 60, 28, 70.3, 7.0, 150.9]])\n",
    "print(prediction)\n"
   ]
  },
  {
   "cell_type": "code",
   "execution_count": 21,
   "metadata": {
    "tags": []
   },
   "outputs": [
    {
     "name": "stdin",
     "output_type": "stream",
     "text": [
      "Enter the Nitrogen value of the soil: 104\n",
      "Enter the Phosphorus value of the soil: 18\n",
      "Enter the Potassium value of the soil: 30\n",
      "Enter the temperature value of the soil: 23.6\n",
      "Enter the humidity value of the soil: 60.3\n",
      "Enter the ph value of the soil: 6.7\n",
      "Enter the rainfall in cm: 140.91\n"
     ]
    },
    {
     "name": "stdout",
     "output_type": "stream",
     "text": [
      "[104, 18, 30, 23.6, 60.3, 6.7, 140.91]\n",
      "['coffee']\n"
     ]
    }
   ],
   "source": [
    "features = []\n",
    "Nitrogen=int(input(\"Enter the Nitrogen value of the soil:\"))\n",
    "features.append(Nitrogen)\n",
    "Phosphorus=int(input(\"Enter the Phosphorus value of the soil:\"))\n",
    "features.append(Phosphorus)   \n",
    "Potassium=int(input(\"Enter the Potassium value of the soil:\"))\n",
    "features.append(Potassium)             \n",
    "temperature=float(input(\"Enter the temperature value of the soil:\"))\n",
    "features.append(temperature)                \n",
    "humidity=float(input(\"Enter the humidity value of the soil:\"))\n",
    "features.append(humidity)            \n",
    "ph=float(input(\"Enter the ph value of the soil:\"))\n",
    "features.append(ph)       \n",
    "rainfall=float(input(\"Enter the rainfall in cm:\"))\n",
    "features.append(rainfall)\n",
    "print(features)\n",
    "\n",
    "data = np.array([features])\n",
    "prediction = RF.predict(data)\n",
    "print(prediction)\n",
    "#[[104,18, 30, 23.603016, 60.3, 6.7, 140.91]]"
   ]
  },
  {
   "cell_type": "code",
   "execution_count": 22,
   "metadata": {
    "tags": []
   },
   "outputs": [],
   "source": [
    "import joblib"
   ]
  },
  {
   "cell_type": "code",
   "execution_count": 23,
   "metadata": {
    "tags": []
   },
   "outputs": [
    {
     "data": {
      "text/plain": [
       "['./../savedmodel2/RF.joblib']"
      ]
     },
     "execution_count": 23,
     "metadata": {},
     "output_type": "execute_result"
    }
   ],
   "source": [
    "joblib.dump(RF, './../savedmodel2/RF.joblib')"
   ]
  },
  {
   "cell_type": "code",
   "execution_count": null,
   "metadata": {},
   "outputs": [],
   "source": []
  }
 ],
 "metadata": {
  "kernelspec": {
   "display_name": "Python 3 (ipykernel)",
   "language": "python",
   "name": "python3"
  },
  "language_info": {
   "codemirror_mode": {
    "name": "ipython",
    "version": 3
   },
   "file_extension": ".py",
   "mimetype": "text/x-python",
   "name": "python",
   "nbconvert_exporter": "python",
   "pygments_lexer": "ipython3",
   "version": "3.11.5"
  },
  "papermill": {
   "duration": 21.35152,
   "end_time": "2022-01-19T05:43:18.107695",
   "environment_variables": {},
   "exception": null,
   "input_path": "__notebook__.ipynb",
   "output_path": "__notebook__.ipynb",
   "parameters": {},
   "start_time": "2022-01-19T05:42:56.756175",
   "version": "2.1.0"
  }
 },
 "nbformat": 4,
 "nbformat_minor": 4
}
