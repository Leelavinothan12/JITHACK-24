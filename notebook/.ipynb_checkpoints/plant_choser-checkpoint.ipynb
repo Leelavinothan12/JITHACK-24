{
 "cells": [
  {
   "cell_type": "code",
   "execution_count": 1,
   "metadata": {
    "papermill": {
     "duration": 1.249177,
     "end_time": "2022-01-19T05:43:03.198482",
     "exception": false,
     "start_time": "2022-01-19T05:43:01.949305",
     "status": "completed"
    },
    "tags": []
   },
   "outputs": [],
   "source": [
    "from __future__ import print_function\n",
    "import pandas as pd\n",
    "import numpy as np\n",
    "import matplotlib.pyplot as plt\n",
    "import seaborn as sns\n",
    "from sklearn.metrics import classification_report\n",
    "from sklearn import metrics\n",
    "from sklearn import tree\n",
    "import warnings\n",
    "warnings.filterwarnings('ignore')"
   ]
  },
  {
   "cell_type": "code",
   "execution_count": 2,
   "metadata": {
    "papermill": {
     "duration": 0.064077,
     "end_time": "2022-01-19T05:43:03.296513",
     "exception": false,
     "start_time": "2022-01-19T05:43:03.232436",
     "status": "completed"
    },
    "tags": []
   },
   "outputs": [],
   "source": [
    "PATH = './dataset/crop_recommendation.csv'\n",
    "df = pd.read_csv(PATH)"
   ]
  },
  {
   "cell_type": "code",
   "execution_count": 3,
   "metadata": {
    "tags": []
   },
   "outputs": [
    {
     "data": {
      "text/plain": [
       "label\n",
       "sugarcane       295\n",
       "maize           293\n",
       "wheat           286\n",
       "rice            284\n",
       "jowar           283\n",
       "grapes          274\n",
       "cotton          271\n",
       "coconut         200\n",
       "orange          200\n",
       "apple           200\n",
       "muskmelon       200\n",
       "watermelon      200\n",
       "papaya          200\n",
       "mango           200\n",
       "kidneybeans     200\n",
       "pomegranate     200\n",
       "lentil          200\n",
       "blackgram       200\n",
       "mungbean        200\n",
       "mothbeans       200\n",
       "chickpea        200\n",
       "banana          200\n",
       "pigeonpeas      200\n",
       "groundnut       177\n",
       "tur             126\n",
       "ginger          125\n",
       "sapota          120\n",
       "fingermillet    101\n",
       "coffee          100\n",
       "jute            100\n",
       "urad             99\n",
       "moong            99\n",
       "turmeric         55\n",
       "soybean          45\n",
       "masoor           12\n",
       "Name: count, dtype: int64"
      ]
     },
     "execution_count": 3,
     "metadata": {},
     "output_type": "execute_result"
    }
   ],
   "source": [
    "df['label'].value_counts()"
   ]
  },
  {
   "cell_type": "code",
   "execution_count": 4,
   "metadata": {
    "papermill": {
     "duration": 0.050705,
     "end_time": "2022-01-19T05:43:03.981448",
     "exception": false,
     "start_time": "2022-01-19T05:43:03.930743",
     "status": "completed"
    },
    "tags": []
   },
   "outputs": [
    {
     "data": {
      "text/plain": [
       "35"
      ]
     },
     "execution_count": 4,
     "metadata": {},
     "output_type": "execute_result"
    }
   ],
   "source": [
    "len(df['label'].unique())"
   ]
  },
  {
   "cell_type": "code",
   "execution_count": 5,
   "metadata": {
    "papermill": {
     "duration": 0.049985,
     "end_time": "2022-01-19T05:43:04.717341",
     "exception": false,
     "start_time": "2022-01-19T05:43:04.667356",
     "status": "completed"
    },
    "tags": []
   },
   "outputs": [],
   "source": [
    "features = df[['Nitrogen', 'Phosphorus','Potassium','temperature', 'humidity', 'ph', 'rainfall']]\n",
    "target = df['label']\n",
    "labels = df['label']"
   ]
  },
  {
   "cell_type": "code",
   "execution_count": 6,
   "metadata": {
    "papermill": {
     "duration": 0.0525,
     "end_time": "2022-01-19T05:43:04.896431",
     "exception": false,
     "start_time": "2022-01-19T05:43:04.843931",
     "status": "completed"
    },
    "tags": []
   },
   "outputs": [],
   "source": [
    "# Splitting into train and test data\n",
    "\n",
    "from sklearn.model_selection import train_test_split\n",
    "Xtrain, Xtest, Ytrain, Ytest = train_test_split(features,target,test_size = 0.2,random_state =2)"
   ]
  },
  {
   "cell_type": "code",
   "execution_count": 7,
   "metadata": {
    "papermill": {
     "duration": 0.198284,
     "end_time": "2022-01-19T05:43:11.591096",
     "exception": false,
     "start_time": "2022-01-19T05:43:11.392812",
     "status": "completed"
    },
    "tags": []
   },
   "outputs": [
    {
     "name": "stdout",
     "output_type": "stream",
     "text": [
      "Accuracy: 0.9921197793538219\n"
     ]
    }
   ],
   "source": [
    "\n",
    "from sklearn.ensemble import RandomForestClassifier\n",
    "from sklearn.metrics import accuracy_score\n",
    "\n",
    "# Assuming Xtrain, Xtest, Ytrain, Ytest are already defined\n",
    "\n",
    "# Remove samples with missing values\n",
    "Xtrain_clean = Xtrain[~np.isnan(Xtrain).any(axis=1)]\n",
    "Ytrain_clean = Ytrain[~np.isnan(Xtrain).any(axis=1)]\n",
    "\n",
    "Xtest_clean = Xtest[~np.isnan(Xtest).any(axis=1)]\n",
    "Ytest_clean = Ytest[~np.isnan(Xtest).any(axis=1)]\n",
    "\n",
    "# Train the model\n",
    "RF = RandomForestClassifier(n_estimators=20, random_state=0)\n",
    "RF.fit(Xtrain_clean, Ytrain_clean)\n",
    "\n",
    "# Predict and evaluate\n",
    "predicted_values = RF.predict(Xtest_clean)\n",
    "accuracy = accuracy_score(Ytest_clean, predicted_values)\n",
    "print(f\"Accuracy: {accuracy}\")\n"
   ]
  },
  {
   "cell_type": "code",
   "execution_count": 8,
   "metadata": {
    "papermill": {
     "duration": 0.061397,
     "end_time": "2022-01-19T05:43:17.633348",
     "exception": false,
     "start_time": "2022-01-19T05:43:17.571951",
     "status": "completed"
    },
    "tags": []
   },
   "outputs": [
    {
     "name": "stdout",
     "output_type": "stream",
     "text": [
      "['rice']\n"
     ]
    }
   ],
   "source": [
    "data = np.array([[90,42,43,20.87974371,82.00274423,6.502985292,202.9355362]])\n",
    "prediction = RF.predict(data)\n",
    "print(prediction)"
   ]
  },
  {
   "cell_type": "code",
   "execution_count": 9,
   "metadata": {
    "papermill": {
     "duration": 0.064038,
     "end_time": "2022-01-19T05:43:17.746979",
     "exception": false,
     "start_time": "2022-01-19T05:43:17.682941",
     "status": "completed"
    },
    "tags": []
   },
   "outputs": [
    {
     "name": "stdout",
     "output_type": "stream",
     "text": [
      "['jute']\n"
     ]
    }
   ],
   "source": [
    "data = np.array([[83, 45, 60, 28, 70.3, 7.0, 150.9]])\n",
    "prediction = RF.predict(data)\n",
    "print(prediction)"
   ]
  },
  {
   "cell_type": "code",
   "execution_count": 13,
   "metadata": {
    "tags": []
   },
   "outputs": [
    {
     "name": "stdin",
     "output_type": "stream",
     "text": [
      "Enter the Nitrogen value of the soil: 69\n",
      "Enter the Phosphorus value of the soil: 55\n",
      "Enter the Potassium value of the soil: 38\n",
      "Enter the temperature value of the soil: 22.7\n",
      "Enter the humidity value of the soil: 82.6\n",
      "Enter the ph value of the soil: 5.7\n",
      "Enter the rainfall in cm: 271.3\n"
     ]
    },
    {
     "name": "stdout",
     "output_type": "stream",
     "text": [
      "[69, 55, 38, 22.7, 82.6, 5.7, 271.3]\n",
      "['rice']\n"
     ]
    }
   ],
   "source": [
    "features = []\n",
    "Nitrogen=int(input(\"Enter the Nitrogen value of the soil:\"))\n",
    "features.append(Nitrogen)\n",
    "Phosphorus=int(input(\"Enter the Phosphorus value of the soil:\"))\n",
    "features.append(Phosphorus)   \n",
    "Potassium=int(input(\"Enter the Potassium value of the soil:\"))\n",
    "features.append(Potassium)             \n",
    "temperature=float(input(\"Enter the temperature value of the soil:\"))\n",
    "features.append(temperature)                \n",
    "humidity=float(input(\"Enter the humidity value of the soil:\"))\n",
    "features.append(humidity)            \n",
    "ph=float(input(\"Enter the ph value of the soil:\"))\n",
    "features.append(ph)       \n",
    "rainfall=float(input(\"Enter the rainfall in cm:\"))\n",
    "features.append(rainfall)\n",
    "print(features)\n",
    "\n",
    "data = np.array([features])\n",
    "prediction = RF.predict(data)\n",
    "print(prediction)\n",
    "#[[104,18, 30, 23.603016, 60.3, 6.7, 140.91]]"
   ]
  },
  {
   "cell_type": "code",
   "execution_count": null,
   "metadata": {},
   "outputs": [],
   "source": [
    "\n",
    "1\t90\t42\t43\t20.87974371\t82.00274423\t6.502985292\t202.9355362\trice"
   ]
  },
  {
   "cell_type": "code",
   "execution_count": null,
   "metadata": {},
   "outputs": [],
   "source": [
    "\tNitrogen\tPhosphorus\tPotassium\ttemperature\thumidity\tph\trainfall\tlabel\n",
    "7\t69\t55\t38\t22.70883798\t82.63941394\t5.70080568\t271.3248604\trice"
   ]
  }
 ],
 "metadata": {
  "kernelspec": {
   "display_name": "Python 3 (ipykernel)",
   "language": "python",
   "name": "python3"
  },
  "language_info": {
   "codemirror_mode": {
    "name": "ipython",
    "version": 3
   },
   "file_extension": ".py",
   "mimetype": "text/x-python",
   "name": "python",
   "nbconvert_exporter": "python",
   "pygments_lexer": "ipython3",
   "version": "3.11.5"
  },
  "papermill": {
   "duration": 21.35152,
   "end_time": "2022-01-19T05:43:18.107695",
   "environment_variables": {},
   "exception": null,
   "input_path": "__notebook__.ipynb",
   "output_path": "__notebook__.ipynb",
   "parameters": {},
   "start_time": "2022-01-19T05:42:56.756175",
   "version": "2.1.0"
  }
 },
 "nbformat": 4,
 "nbformat_minor": 4
}
